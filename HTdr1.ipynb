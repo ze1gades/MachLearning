{
 "cells": [
  {
   "cell_type": "markdown",
   "metadata": {},
   "source": [
    "# Реализация функции KMeans"
   ]
  },
  {
   "cell_type": "code",
   "execution_count": 16,
   "metadata": {},
   "outputs": [
    {
     "name": "stdout",
     "output_type": "stream",
     "text": [
      "\n"
     ]
    }
   ],
   "source": [
    "import numpy as np\n",
    "def MKMeans(sys, sys_size, centers):\n",
    "    cent = choise_KMeans_cent(sys=sys, sys_size=sys_size, centers=centers)\n",
    "    distance = (sys[:, 0][:, np.newaxis] - cent[:, 0]) ** 2\n",
    "    distance += (sys[:, 1][:, np.newaxis] - cent[:, 1]) ** 2\n",
    "    distance = np.sqrt(distance)\n",
    "    clasters_args = np.argmin(distance, axis=1)\n",
    "    while True:\n",
    "        new_cent = np.zeros(centers * sys_size * 2).reshape(-1, sys_size, 2)\n",
    "        new_cent[clasters_args, range(sys_size), :] += sys[range(sys_size), :]\n",
    "        new_cent = np.sum(new_cent, axis=1)\n",
    "        new_cl_args, count = np.unique(clasters_args, return_counts=True)\n",
    "        new_cent[:, 0] /= count\n",
    "        new_cent[:, 1] /= count\n",
    "        if np.array_equal(new_cent, cent):\n",
    "            break\n",
    "        distance = (sys[:, 0][:, np.newaxis] - new_cent[:, 0]) ** 2\n",
    "        distance += (sys[:, 1][:, np.newaxis] - new_cent[:, 1]) ** 2\n",
    "        distance = np.sqrt(distance)\n",
    "        clasters_args = np.argmin(distance, axis=1)\n",
    "        cent = new_cent.copy()\n",
    "return  clasters_args\n"
   ]
  },
  {
   "cell_type": "markdown",
   "metadata": {},
   "source": [
    "# Различные способы начальной инициализации"
   ]
  },
  {
   "cell_type": "code",
   "execution_count": 16,
   "metadata": {},
   "outputs": [
    {
     "name": "stdout",
     "output_type": "stream",
     "text": [
      "\"Топорный\" способ\n"
     ]
    }
   ],
   "source": [
    "def choise_KMeans_cent(sys, sys_size, centers):\n",
    "    cent = np.empty(centers * 2).reshape(-1, 2)\n",
    "    cent[range(centers), :] = sys[np.random.choice(range(sys_size), centers, replace=False)]\n",
    "    return cent\n"
   ]
  }  
 ],
 "metadata": {
  "kernelspec": {
   "display_name": "Python 3",
   "language": "python",
   "name": "python3"
  },
  "language_info": {
   "codemirror_mode": {
    "name": "ipython",
    "version": 3
   },
   "file_extension": ".py",
   "mimetype": "text/x-python",
   "name": "python",
   "nbconvert_exporter": "python",
   "pygments_lexer": "ipython3",
   "version": "3.6.6"
  }
 },
 "nbformat": 4,
 "nbformat_minor": 2
}
